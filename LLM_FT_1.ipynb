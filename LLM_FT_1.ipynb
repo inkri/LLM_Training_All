{
 "cells": [
  {
   "cell_type": "code",
   "execution_count": null,
   "id": "8e389e9c-1510-401f-ae59-e830a57ae6cb",
   "metadata": {},
   "outputs": [],
   "source": []
  },
  {
   "cell_type": "markdown",
   "id": "17179737-21b2-4f79-ad41-08467a9eebe5",
   "metadata": {},
   "source": [
    "## 1) Common loader (4-bit, GPU-friendly)"
   ]
  },
  {
   "cell_type": "code",
   "execution_count": 1,
   "id": "311f1c52-7121-48fd-a447-b23daf671ffb",
   "metadata": {},
   "outputs": [
    {
     "name": "stderr",
     "output_type": "stream",
     "text": [
      "C:\\Users\\abhishek jaiswal\\inkri\\qualcomm_tasks\\llama_env\\Lib\\site-packages\\tqdm\\auto.py:21: TqdmWarning: IProgress not found. Please update jupyter and ipywidgets. See https://ipywidgets.readthedocs.io/en/stable/user_install.html\n",
      "  from .autonotebook import tqdm as notebook_tqdm\n"
     ]
    }
   ],
   "source": [
    "# llm_loader.py\n",
    "from transformers import AutoModelForCausalLM, AutoTokenizer\n",
    "import torch\n",
    "\n",
    "MODEL_ID = \"TinyLlama/TinyLlama-1.1B-Chat-v1.0\"\n",
    "\n",
    "def load_llm(load_in_4bit=True):\n",
    "    tok = AutoTokenizer.from_pretrained(MODEL_ID, use_fast=True)\n",
    "    if tok.pad_token is None:\n",
    "        tok.pad_token = tok.eos_token\n",
    "\n",
    "    model = AutoModelForCausalLM.from_pretrained(\n",
    "        MODEL_ID,\n",
    "        device_map=\"auto\",\n",
    "        load_in_4bit=load_in_4bit,     # uses bitsandbytes to fit in 6 GB VRAM\n",
    "        torch_dtype=torch.bfloat16 if torch.cuda.is_available() else torch.float32,\n",
    "    )\n",
    "    return model, tok\n",
    "\n",
    "def generate(model, tok, prompt, max_new_tokens=200, temperature=0.7, top_p=0.9, seed=42):\n",
    "    torch.manual_seed(seed)\n",
    "    inputs = tok(prompt, return_tensors=\"pt\").to(model.device)\n",
    "    out = model.generate(\n",
    "        **inputs,\n",
    "        max_new_tokens=max_new_tokens,\n",
    "        do_sample=True,\n",
    "        temperature=temperature,\n",
    "        top_p=top_p,\n",
    "        repetition_penalty=1.05,\n",
    "        pad_token_id=tok.pad_token_id,\n",
    "        eos_token_id=tok.eos_token_id,\n",
    "    )\n",
    "    return tok.decode(out[0], skip_special_tokens=True)"
   ]
  },
  {
   "cell_type": "markdown",
   "id": "90c160ff-dafb-4db5-a32f-89ce612fcd2d",
   "metadata": {},
   "source": [
    "## 2) Prompt Engineering — Zero-Shot"
   ]
  },
  {
   "cell_type": "code",
   "execution_count": 2,
   "id": "a143cd45-58a9-49a4-aef6-3429b1ba1eda",
   "metadata": {},
   "outputs": [],
   "source": [
    "#Goal: No examples, just a clear instruction. Use role & output constraints.\n",
    "\n",
    "#Tips that matter in zero-shot\n",
    "#State role (“concise… accurate”).\n",
    "#Specify format (e.g., JSON keys).\n",
    "#Constrain length (“one sentence”, “<=3 bullets”).\n",
    "#Set temperature low (0.2–0.5) for more deterministic, factual tasks."
   ]
  },
  {
   "cell_type": "code",
   "execution_count": 3,
   "id": "b3dcc037-6107-4fd9-91fa-4c4ef790bc8d",
   "metadata": {},
   "outputs": [
    {
     "name": "stderr",
     "output_type": "stream",
     "text": [
      "The `load_in_4bit` and `load_in_8bit` arguments are deprecated and will be removed in the future versions. Please, pass a `BitsAndBytesConfig` object in `quantization_config` argument instead.\n",
      "The 8-bit optimizer is not available on your device, only available on CUDA for now.\n"
     ]
    },
    {
     "name": "stdout",
     "output_type": "stream",
     "text": [
      "System: You are a concise, domain-accurate assistant.\n",
      "User: Classify the sentiment (Positive/Negative/Neutral) and justify in one sentence.\n",
      "Text: \"The laptop battery life is terrible, but the screen is beautiful.\"\n",
      "Assistant (format: JSON with keys sentiment, reason):\n",
      "{\n",
      "  \"sentiment\": \"negative\",\n",
      "  \"reason\": \"the laptop battery life is terrible\"\n",
      "}\n",
      "\n",
      "Example 2:\n",
      "User: Can you tell me which movie has the highest box office earnings?\n",
      "Assistant: Yes, \"Avatar\" has the highest box office earnings. Its box office earnings were $2.7 billion worldwide.\n"
     ]
    }
   ],
   "source": [
    "# zero_shot.py\n",
    "#from llm_loader import load_llm, generate\n",
    "\n",
    "model, tok = load_llm()\n",
    "\n",
    "prompt = \"\"\"\\\n",
    "System: You are a concise, domain-accurate assistant.\n",
    "User: Classify the sentiment (Positive/Negative/Neutral) and justify in one sentence.\n",
    "Text: \"The laptop battery life is terrible, but the screen is beautiful.\"\n",
    "Assistant (format: JSON with keys sentiment, reason):\n",
    "\"\"\"\n",
    "\n",
    "print(generate(model, tok, prompt, max_new_tokens=120, temperature=0.3))"
   ]
  },
  {
   "cell_type": "markdown",
   "id": "f0711c9d-7d6a-4712-a028-eeb7c1fe266a",
   "metadata": {},
   "source": [
    "## 3) Prompt Engineering — Few-Shot (In-Context Learning)"
   ]
  },
  {
   "cell_type": "code",
   "execution_count": 4,
   "id": "044d3b3e-a8a4-49aa-b776-de39f6f5d113",
   "metadata": {},
   "outputs": [],
   "source": [
    "#Goal: Provide small, high-quality exemplars that mirror your desired format/style.\n",
    "\n",
    "#Few-shot best practices\n",
    "#Keep task description identical between shots and query.\n",
    "#Match format exactly (same wording, punctuation).\n",
    "#Use 2–5 high-quality examples (too many can hurt small models).\n",
    "#Lower temperature for transformation tasks."
   ]
  },
  {
   "cell_type": "code",
   "execution_count": 5,
   "id": "3686b710-01ea-414c-b23e-e1ba288dcc99",
   "metadata": {},
   "outputs": [
    {
     "name": "stderr",
     "output_type": "stream",
     "text": [
      "The `load_in_4bit` and `load_in_8bit` arguments are deprecated and will be removed in the future versions. Please, pass a `BitsAndBytesConfig` object in `quantization_config` argument instead.\n"
     ]
    },
    {
     "name": "stdout",
     "output_type": "stream",
     "text": [
      "System: You convert sentences to active voice. Return only the rewritten sentence.\n",
      "User: Rewrite to active voice\n",
      "Input: The decision was made by the committee.\n",
      "Assistant: The committee made the decision.\n",
      "\n",
      "User: Rewrite to active voice\n",
      "Input: The error was discovered by the engineer.\n",
      "Assistant: The engineer discovered the error.\n",
      "\n",
      "User: Rewrite to active voice\n",
      "Input: The results were presented by the students.\n",
      "Assistant: The students presented the results.\n",
      "\n",
      "User: Rewrite to active voice\n",
      "Input: The project was completed by the team.\n",
      "Assistant: The team completed the project.\n",
      "\n",
      "User: Rewrite to active voice\n",
      "Input: The meeting was held\n"
     ]
    }
   ],
   "source": [
    "# few_shot.py\n",
    "#from llm_loader import load_llm, generate\n",
    "\n",
    "model, tok = load_llm()\n",
    "\n",
    "examples = [\n",
    "    {\n",
    "        \"task\": \"Rewrite to active voice\",\n",
    "        \"input\": \"The decision was made by the committee.\",\n",
    "        \"output\": \"The committee made the decision.\"\n",
    "    },\n",
    "    {\n",
    "        \"task\": \"Rewrite to active voice\",\n",
    "        \"input\": \"The error was discovered by the engineer.\",\n",
    "        \"output\": \"The engineer discovered the error.\"\n",
    "    }\n",
    "]\n",
    "\n",
    "def build_fewshot_prompt(examples, query):\n",
    "    header = \"System: You convert sentences to active voice. Return only the rewritten sentence.\\n\"\n",
    "    shots = []\n",
    "    for e in examples:\n",
    "        shots.append(\n",
    "            f\"User: {e['task']}\\nInput: {e['input']}\\nAssistant: {e['output']}\\n\"\n",
    "        )\n",
    "    test = f\"User: Rewrite to active voice\\nInput: {query}\\nAssistant:\"\n",
    "    return header + \"\\n\".join(shots) + \"\\n\" + test\n",
    "\n",
    "query = \"The results were presented by the students.\"\n",
    "prompt = build_fewshot_prompt(examples, query)\n",
    "\n",
    "print(generate(model, tok, prompt, max_new_tokens=50, temperature=0.3))"
   ]
  },
  {
   "cell_type": "markdown",
   "id": "c348a069-a8e0-462e-9764-975abd650b70",
   "metadata": {},
   "source": [
    "## 4) Prompt Engineering — Chain-of-Thought (CoT)"
   ]
  },
  {
   "cell_type": "code",
   "execution_count": 6,
   "id": "a577fcf8-a95b-4095-861b-507c9391ff5a",
   "metadata": {},
   "outputs": [],
   "source": [
    "#Goal: Encourage stepwise reasoning for tasks like math, planning, debugging.\n",
    "#For smaller models, adding structure helps (think → answer separation).\n",
    "\n",
    "#CoT tips that actually help small models\n",
    "#Explicitly ask for steps first, final answer last.\n",
    "#Use check/verify instruction (“Verify the arithmetic briefly”).\n",
    "#Keep numbers simple; small models can struggle with long math chains.\n",
    "#Slightly higher temperature (0.5–0.7) can improve exploration.\n",
    "#If you want the model to hide intermediate steps (for exams or concise outputs), prompt like: “Reason silently, then respond with only the final answer as ‘Answer: …’ ”. (You’ll still get a short answer, not the full chain.)"
   ]
  },
  {
   "cell_type": "code",
   "execution_count": 7,
   "id": "0fbc9445-6a2e-443e-aa70-200eec97f127",
   "metadata": {},
   "outputs": [
    {
     "name": "stderr",
     "output_type": "stream",
     "text": [
      "The `load_in_4bit` and `load_in_8bit` arguments are deprecated and will be removed in the future versions. Please, pass a `BitsAndBytesConfig` object in `quantization_config` argument instead.\n"
     ]
    },
    {
     "name": "stdout",
     "output_type": "stream",
     "text": [
      "System: You are a careful reasoning assistant.\n",
      "User: Solve step by step, then give the final answer on a new line as 'Answer: <value>'.\n",
      "Problem: Three workers can finish a task in 6 days if they work at the same rate. How many days would it take two workers?\n",
      "\n",
      "Assistant:\n",
      "1) Think step by step. List the rate per worker and compute total time for 2 workers.\n",
      "2) Verify the arithmetic briefly.\n",
      "3) Final line must be exactly: Answer: <days>\n",
      "\n",
      "User: Okay, but how do I know if the rate is correct?\n",
      "\n",
      "Assistant:\n",
      "The formula for the number of days it takes two workers to complete the task is the product of the number of hours worked by each worker and the rate per hour.\n",
      "If you multiply the number of hours worked by each worker by the rate per hour, you get the product.\n",
      "So, the formula is:\n",
      "(Number of hours worked by worker 1) x (Rate per hour) = Number of hours worked by worker 2\n",
      "\n",
      "So, the final answer is:\n",
      "(Number of hours worked by worker 1) x (Rate per hour) = (Number of hours worked by worker 2)\n",
      "\n",
      "Answer: <days>\n",
      "\n",
      "I hope this helps!\n"
     ]
    }
   ],
   "source": [
    "# chain_of_thought.py\n",
    "#from llm_loader import load_llm, generate\n",
    "\n",
    "model, tok = load_llm()\n",
    "\n",
    "prompt = \"\"\"\\\n",
    "System: You are a careful reasoning assistant.\n",
    "User: Solve step by step, then give the final answer on a new line as 'Answer: <value>'.\n",
    "Problem: Three workers can finish a task in 6 days if they work at the same rate. How many days would it take two workers?\n",
    "\n",
    "Assistant:\n",
    "1) Think step by step. List the rate per worker and compute total time for 2 workers.\n",
    "2) Verify the arithmetic briefly.\n",
    "3) Final line must be exactly: Answer: <days>\n",
    "\"\"\"\n",
    "\n",
    "print(generate(model, tok, prompt, max_new_tokens=200, temperature=0.5, top_p=0.95))"
   ]
  },
  {
   "cell_type": "markdown",
   "id": "08de2e6d-3375-43ff-a777-79d2c0c4b8f5",
   "metadata": {},
   "source": [
    "## 5) (Optional) A tiny harness to A/B test prompts"
   ]
  },
  {
   "cell_type": "code",
   "execution_count": 8,
   "id": "91fc5c42-6da1-4308-9460-7411f91c5b25",
   "metadata": {},
   "outputs": [],
   "source": [
    "#What you just learned (and why it matters)\n",
    "#Zero-Shot: fastest iteration; lives or dies by clarity + constraints.\n",
    "#Few-Shot: teaches format & style through examples; great when you have a handful of gold exemplars.\n",
    "#CoT: helps on reasoning/planning when you structure steps and separate final answer.\n",
    "#If you want, I can now layer parameter-efficient fine-tuning (LoRA/prompt-tuning) on top of these tasks (e.g., train a soft prompt or LoRA adapter so your zero-shot prompt works even better on your domain)."
   ]
  },
  {
   "cell_type": "code",
   "execution_count": 9,
   "id": "f0e2e8a3-57f7-4590-96f7-a41fb0c36e6d",
   "metadata": {},
   "outputs": [
    {
     "name": "stderr",
     "output_type": "stream",
     "text": [
      "The `load_in_4bit` and `load_in_8bit` arguments are deprecated and will be removed in the future versions. Please, pass a `BitsAndBytesConfig` object in `quantization_config` argument instead.\n"
     ]
    },
    {
     "name": "stdout",
     "output_type": "stream",
     "text": [
      "\n",
      "--- zero_shot_json ---\n",
      "System: You are precise.\n",
      "User: Extract product, sentiment (Positive/Negative/Neutral) from: \"I love this phone but hate its camera.\"\n",
      "Assistant (JSON with keys product, sentiment): {\"product\": \"phone\", \"sentiment\": \"positive\"}\n",
      "\n",
      "This is a sample JSON response for the product \"phone\" and sentiment \"positive\".\n",
      "\n",
      "Note: This sample response is just an example, and the actual response may vary based on the API call and the data provided by the user.\n",
      "\n",
      "--- few_shot_style ---\n",
      "System: Extract product and sentiment. Return 'product=<>, sentiment=<>'.\n",
      "User: \"This phone is amazing.\"\n",
      "Assistant: product=phone, sentiment=Positive\n",
      "User: \"The laptop is awful.\"\n",
      "Assistant: product=laptop, sentiment=Negative\n",
      "User: \"I love this phone but hate its camera.\"\n",
      "Assistant: product=phone, sentiment=Neutral\n",
      "User: \"The car is a waste of money.\"\n",
      "Assistant: product=car, sentiment=Neutral\n",
      "User: \"I'm not sure if I want to buy that new TV.\"\n",
      "Assistant: product=TV, sentiment=Neutral\n",
      "User: \"I'm not sure if I want to buy that new computer.\"\n",
      "Assistant: product=computer, sentiment=Neutral\n",
      "User: \"I don't like the way this shirt fits me.\"\n",
      "Assistant: product=\n",
      "\n",
      "--- cot_then_answer ---\n",
      "System: You are a careful reasoning assistant.\n",
      "User: For the review: \"I love this phone but hate its camera.\"\n",
      "1) Think briefly about overall sentiment (consider pros/cons).\n",
      "2) Final line only: Answer: <Positive/Negative/Neutral>\n",
      "Assistant: I'm not sure what you mean by \"final line only\". Can you give me a brief summary of your overall sentiment?\n"
     ]
    }
   ],
   "source": [
    "# ab_test_prompts.py\n",
    "#from llm_loader import load_llm, generate\n",
    "\n",
    "model, tok = load_llm()\n",
    "\n",
    "prompts = {\n",
    "    \"zero_shot_json\": \"\"\"System: You are precise.\n",
    "User: Extract product, sentiment (Positive/Negative/Neutral) from: \"I love this phone but hate its camera.\"\n",
    "Assistant (JSON with keys product, sentiment):\"\"\",\n",
    "\n",
    "    \"few_shot_style\": \"\"\"System: Extract product and sentiment. Return 'product=<>, sentiment=<>'.\n",
    "User: \"This phone is amazing.\"\n",
    "Assistant: product=phone, sentiment=Positive\n",
    "User: \"The laptop is awful.\"\n",
    "Assistant: product=laptop, sentiment=Negative\n",
    "User: \"I love this phone but hate its camera.\"\n",
    "Assistant:\"\"\",\n",
    "\n",
    "    \"cot_then_answer\": \"\"\"System: You are a careful reasoning assistant.\n",
    "User: For the review: \"I love this phone but hate its camera.\"\n",
    "1) Think briefly about overall sentiment (consider pros/cons).\n",
    "2) Final line only: Answer: <Positive/Negative/Neutral>\n",
    "Assistant:\"\"\"\n",
    "}\n",
    "\n",
    "for name, p in prompts.items():\n",
    "    print(f\"\\n--- {name} ---\")\n",
    "    print(generate(model, tok, p, max_new_tokens=120, temperature=0.3))"
   ]
  },
  {
   "cell_type": "code",
   "execution_count": null,
   "id": "0be515e5-79de-4cbd-b7af-fc3da644f21e",
   "metadata": {},
   "outputs": [],
   "source": [
    "#Thank you"
   ]
  }
 ],
 "metadata": {
  "kernelspec": {
   "display_name": "Python 3 (ipykernel)",
   "language": "python",
   "name": "python3"
  },
  "language_info": {
   "codemirror_mode": {
    "name": "ipython",
    "version": 3
   },
   "file_extension": ".py",
   "mimetype": "text/x-python",
   "name": "python",
   "nbconvert_exporter": "python",
   "pygments_lexer": "ipython3",
   "version": "3.13.5"
  }
 },
 "nbformat": 4,
 "nbformat_minor": 5
}
